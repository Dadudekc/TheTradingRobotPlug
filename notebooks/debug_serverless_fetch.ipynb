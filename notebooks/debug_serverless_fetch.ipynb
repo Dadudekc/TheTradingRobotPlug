{
 "cells": [
  {
   "cell_type": "code",
   "execution_count": 10,
   "metadata": {},
   "outputs": [
    {
     "name": "stdout",
     "output_type": "stream",
     "text": [
      "Calling fetch()...\n",
      "Result: {}\n",
      "Debug: mock_session.post was never called!\n"
     ]
    },
    {
     "ename": "AssertionError",
     "evalue": "Expected 'post' to be called once. Called 0 times.",
     "output_type": "error",
     "traceback": [
      "\u001b[1;31m---------------------------------------------------------------------------\u001b[0m",
      "\u001b[1;31mAssertionError\u001b[0m                            Traceback (most recent call last)",
      "Cell \u001b[1;32mIn[10], line 65\u001b[0m\n\u001b[0;32m     58\u001b[0m             mock_session\u001b[38;5;241m.\u001b[39mpost\u001b[38;5;241m.\u001b[39massert_called_once_with(\n\u001b[0;32m     59\u001b[0m                 \u001b[38;5;124m\"\u001b[39m\u001b[38;5;124mhttps://example-serverless-api.com/fetch\u001b[39m\u001b[38;5;124m\"\u001b[39m,\n\u001b[0;32m     60\u001b[0m                 json\u001b[38;5;241m=\u001b[39m{\u001b[38;5;124m\"\u001b[39m\u001b[38;5;124msymbol\u001b[39m\u001b[38;5;124m\"\u001b[39m: \u001b[38;5;124m\"\u001b[39m\u001b[38;5;124mAAPL\u001b[39m\u001b[38;5;124m\"\u001b[39m, \u001b[38;5;124m\"\u001b[39m\u001b[38;5;124mdata_sources\u001b[39m\u001b[38;5;124m\"\u001b[39m: [\u001b[38;5;124m\"\u001b[39m\u001b[38;5;124mAlpha Vantage\u001b[39m\u001b[38;5;124m\"\u001b[39m], \u001b[38;5;124m\"\u001b[39m\u001b[38;5;124mkwargs\u001b[39m\u001b[38;5;124m\"\u001b[39m: {}}\n\u001b[0;32m     61\u001b[0m             )\n\u001b[0;32m     64\u001b[0m \u001b[38;5;66;03m# Run the test coroutine (Jupyter/Interactive-safe way)\u001b[39;00m\n\u001b[1;32m---> 65\u001b[0m \u001b[38;5;28;01mawait\u001b[39;00m test_fetch_interactively()\n",
      "Cell \u001b[1;32mIn[10], line 58\u001b[0m, in \u001b[0;36mtest_fetch_interactively\u001b[1;34m()\u001b[0m\n\u001b[0;32m     55\u001b[0m     \u001b[38;5;28mprint\u001b[39m(\u001b[38;5;124m\"\u001b[39m\u001b[38;5;124mDebug: mock_session.post call args:\u001b[39m\u001b[38;5;124m\"\u001b[39m, mock_session\u001b[38;5;241m.\u001b[39mpost\u001b[38;5;241m.\u001b[39mcall_args)\n\u001b[0;32m     57\u001b[0m \u001b[38;5;66;03m# Confirm mocked behavior\u001b[39;00m\n\u001b[1;32m---> 58\u001b[0m \u001b[43mmock_session\u001b[49m\u001b[38;5;241;43m.\u001b[39;49m\u001b[43mpost\u001b[49m\u001b[38;5;241;43m.\u001b[39;49m\u001b[43massert_called_once_with\u001b[49m\u001b[43m(\u001b[49m\n\u001b[0;32m     59\u001b[0m \u001b[43m    \u001b[49m\u001b[38;5;124;43m\"\u001b[39;49m\u001b[38;5;124;43mhttps://example-serverless-api.com/fetch\u001b[39;49m\u001b[38;5;124;43m\"\u001b[39;49m\u001b[43m,\u001b[49m\n\u001b[0;32m     60\u001b[0m \u001b[43m    \u001b[49m\u001b[43mjson\u001b[49m\u001b[38;5;241;43m=\u001b[39;49m\u001b[43m{\u001b[49m\u001b[38;5;124;43m\"\u001b[39;49m\u001b[38;5;124;43msymbol\u001b[39;49m\u001b[38;5;124;43m\"\u001b[39;49m\u001b[43m:\u001b[49m\u001b[43m \u001b[49m\u001b[38;5;124;43m\"\u001b[39;49m\u001b[38;5;124;43mAAPL\u001b[39;49m\u001b[38;5;124;43m\"\u001b[39;49m\u001b[43m,\u001b[49m\u001b[43m \u001b[49m\u001b[38;5;124;43m\"\u001b[39;49m\u001b[38;5;124;43mdata_sources\u001b[39;49m\u001b[38;5;124;43m\"\u001b[39;49m\u001b[43m:\u001b[49m\u001b[43m \u001b[49m\u001b[43m[\u001b[49m\u001b[38;5;124;43m\"\u001b[39;49m\u001b[38;5;124;43mAlpha Vantage\u001b[39;49m\u001b[38;5;124;43m\"\u001b[39;49m\u001b[43m]\u001b[49m\u001b[43m,\u001b[49m\u001b[43m \u001b[49m\u001b[38;5;124;43m\"\u001b[39;49m\u001b[38;5;124;43mkwargs\u001b[39;49m\u001b[38;5;124;43m\"\u001b[39;49m\u001b[43m:\u001b[49m\u001b[43m \u001b[49m\u001b[43m{\u001b[49m\u001b[43m}\u001b[49m\u001b[43m}\u001b[49m\n\u001b[0;32m     61\u001b[0m \u001b[43m\u001b[49m\u001b[43m)\u001b[49m\n",
      "File \u001b[1;32m~\\anaconda3\\Lib\\unittest\\mock.py:955\u001b[0m, in \u001b[0;36mNonCallableMock.assert_called_once_with\u001b[1;34m(self, *args, **kwargs)\u001b[0m\n\u001b[0;32m    950\u001b[0m \u001b[38;5;28;01mif\u001b[39;00m \u001b[38;5;129;01mnot\u001b[39;00m \u001b[38;5;28mself\u001b[39m\u001b[38;5;241m.\u001b[39mcall_count \u001b[38;5;241m==\u001b[39m \u001b[38;5;241m1\u001b[39m:\n\u001b[0;32m    951\u001b[0m     msg \u001b[38;5;241m=\u001b[39m (\u001b[38;5;124m\"\u001b[39m\u001b[38;5;124mExpected \u001b[39m\u001b[38;5;124m'\u001b[39m\u001b[38;5;132;01m%s\u001b[39;00m\u001b[38;5;124m'\u001b[39m\u001b[38;5;124m to be called once. Called \u001b[39m\u001b[38;5;132;01m%s\u001b[39;00m\u001b[38;5;124m times.\u001b[39m\u001b[38;5;132;01m%s\u001b[39;00m\u001b[38;5;124m\"\u001b[39m\n\u001b[0;32m    952\u001b[0m            \u001b[38;5;241m%\u001b[39m (\u001b[38;5;28mself\u001b[39m\u001b[38;5;241m.\u001b[39m_mock_name \u001b[38;5;129;01mor\u001b[39;00m \u001b[38;5;124m'\u001b[39m\u001b[38;5;124mmock\u001b[39m\u001b[38;5;124m'\u001b[39m,\n\u001b[0;32m    953\u001b[0m               \u001b[38;5;28mself\u001b[39m\u001b[38;5;241m.\u001b[39mcall_count,\n\u001b[0;32m    954\u001b[0m               \u001b[38;5;28mself\u001b[39m\u001b[38;5;241m.\u001b[39m_calls_repr()))\n\u001b[1;32m--> 955\u001b[0m     \u001b[38;5;28;01mraise\u001b[39;00m \u001b[38;5;167;01mAssertionError\u001b[39;00m(msg)\n\u001b[0;32m    956\u001b[0m \u001b[38;5;28;01mreturn\u001b[39;00m \u001b[38;5;28mself\u001b[39m\u001b[38;5;241m.\u001b[39massert_called_with(\u001b[38;5;241m*\u001b[39margs, \u001b[38;5;241m*\u001b[39m\u001b[38;5;241m*\u001b[39mkwargs)\n",
      "\u001b[1;31mAssertionError\u001b[0m: Expected 'post' to be called once. Called 0 times."
     ]
    }
   ],
   "source": [
    "# Import necessary libraries\n",
    "import nest_asyncio\n",
    "import asyncio\n",
    "import aiohttp\n",
    "from unittest.mock import patch, AsyncMock\n",
    "import importlib.util\n",
    "\n",
    "# Allow nested event loops for Jupyter\n",
    "nest_asyncio.apply()\n",
    "\n",
    "# Dynamically import the serverless_utils module\n",
    "spec = importlib.util.spec_from_file_location(\n",
    "    \"serverless_utils\", \"D:/TradingRobotPlug2/Scripts/Utilities/serverless_utils.py\"\n",
    ")\n",
    "serverless_utils = importlib.util.module_from_spec(spec)\n",
    "spec.loader.exec_module(serverless_utils)\n",
    "\n",
    "# Access the ServerlessFetcher class\n",
    "ServerlessFetcher = serverless_utils.ServerlessFetcher\n",
    "\n",
    "# Set up test data\n",
    "mock_response_data = {\"status\": \"success\", \"data\": {\"symbol\": \"AAPL\", \"price\": 150.0}}\n",
    "\n",
    "# Initialize the ServerlessFetcher instance\n",
    "fetcher = ServerlessFetcher()\n",
    "\n",
    "# Define the test coroutine\n",
    "async def test_fetch_interactively():\n",
    "    \"\"\"\n",
    "    Test the ServerlessFetcher.fetch() method interactively with mocks.\n",
    "    \"\"\"\n",
    "    # Mock the environment variable\n",
    "    with patch(\"os.getenv\", return_value=\"https://example-serverless-api.com/fetch\"):\n",
    "        # Mock aiohttp.ClientSession\n",
    "        with patch(\"aiohttp.ClientSession\") as MockClientSession:\n",
    "            # Mock response object\n",
    "            mock_response = AsyncMock()\n",
    "            mock_response.status = 200\n",
    "            mock_response.json = AsyncMock(return_value=mock_response_data)\n",
    "\n",
    "            # Mock session and its post method\n",
    "            mock_session = AsyncMock()\n",
    "            mock_session.post.return_value.__aenter__.return_value = mock_response\n",
    "            MockClientSession.return_value.__aenter__.return_value = mock_session\n",
    "\n",
    "            # Call the fetch method\n",
    "            print(\"Calling fetch()...\")\n",
    "            result = await fetcher.fetch(symbol=\"AAPL\", data_sources=[\"Alpha Vantage\"])\n",
    "            print(\"Result:\", result)\n",
    "\n",
    "            # Debug: Check if mock_session.post was called\n",
    "            if not mock_session.post.called:\n",
    "                print(\"Debug: mock_session.post was never called!\")\n",
    "            else:\n",
    "                print(\"Debug: mock_session.post call args:\", mock_session.post.call_args)\n",
    "\n",
    "            # Confirm mocked behavior\n",
    "            mock_session.post.assert_called_once_with(\n",
    "                \"https://example-serverless-api.com/fetch\",\n",
    "                json={\"symbol\": \"AAPL\", \"data_sources\": [\"Alpha Vantage\"], \"kwargs\": {}}\n",
    "            )\n",
    "\n",
    "\n",
    "# Run the test coroutine (Jupyter/Interactive-safe way)\n",
    "await test_fetch_interactively()\n"
   ]
  }
 ],
 "metadata": {
  "kernelspec": {
   "display_name": "Tradingrobotplug2",
   "language": "python",
   "name": "python3"
  },
  "language_info": {
   "codemirror_mode": {
    "name": "ipython",
    "version": 3
   },
   "file_extension": ".py",
   "mimetype": "text/x-python",
   "name": "python",
   "nbconvert_exporter": "python",
   "pygments_lexer": "ipython3",
   "version": "3.12.3"
  }
 },
 "nbformat": 4,
 "nbformat_minor": 2
}
